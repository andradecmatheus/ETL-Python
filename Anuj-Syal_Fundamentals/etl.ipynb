{
 "cells": [
  {
   "cell_type": "markdown",
   "metadata": {},
   "source": [
    "\"\"\"\n",
    "Python Extract Transform Load Example\n",
    "\"\"\""
   ]
  },
  {
   "cell_type": "code",
   "execution_count": 16,
   "metadata": {},
   "outputs": [],
   "source": [
    "import requests\n",
    "import pandas as pd\n",
    "from sqlalchemy import create_engine"
   ]
  },
  {
   "cell_type": "code",
   "execution_count": 17,
   "metadata": {},
   "outputs": [],
   "source": [
    "def extract()-> dict:\n",
    "    \"\"\" This API extracts data from\n",
    "    http://universities.hipolabs.com\n",
    "    \"\"\"\n",
    "    API_URL = \"http://universities.hipolabs.com/search?country=United+States\"\n",
    "    data = requests.get(API_URL).json() \n",
    "    return data\n"
   ]
  },
  {
   "cell_type": "code",
   "execution_count": 18,
   "metadata": {},
   "outputs": [],
   "source": [
    "def transform(data:dict) -> pd.DataFrame:\n",
    "    \"\"\" Transforms the dataset into desired structure and filters\"\"\"\n",
    "    df = pd.DataFrame(data)\n",
    "    print(f\"Total Number of universities from API: {len(data)}\")\n",
    "    df = df[df[\"name\"].str.contains(\"California\")]\n",
    "    print(f\"Number of universities in california: {len(df)}\")\n",
    "    df['domains'] = [','.join(map(str, l)) for l in df['domains']]\n",
    "    df['web_pages'] = [','.join(map(str, l)) for l in df['web_pages']]\n",
    "    df = df.reset_index(drop=True)\n",
    "    return df[[\"domains\",\"country\",\"web_pages\",\"name\"]]"
   ]
  },
  {
   "cell_type": "code",
   "execution_count": 19,
   "metadata": {},
   "outputs": [],
   "source": [
    "def load(df:pd.DataFrame)-> None:\n",
    "    \"\"\" Loads data into a sqllite database\"\"\"\n",
    "    disk_engine = create_engine('sqlite:///my_lite_store.db')\n",
    "    df.to_sql('cal_uni', disk_engine, if_exists='replace')"
   ]
  },
  {
   "cell_type": "code",
   "execution_count": null,
   "metadata": {},
   "outputs": [],
   "source": [
    "data = extract()\n",
    "df = transform(data)\n",
    "load(df)"
   ]
  },
  {
   "cell_type": "code",
   "execution_count": 20,
   "metadata": {},
   "outputs": [
    {
     "data": {
      "text/html": [
       "<div>\n",
       "<style scoped>\n",
       "    .dataframe tbody tr th:only-of-type {\n",
       "        vertical-align: middle;\n",
       "    }\n",
       "\n",
       "    .dataframe tbody tr th {\n",
       "        vertical-align: top;\n",
       "    }\n",
       "\n",
       "    .dataframe thead th {\n",
       "        text-align: right;\n",
       "    }\n",
       "</style>\n",
       "<table border=\"1\" class=\"dataframe\">\n",
       "  <thead>\n",
       "    <tr style=\"text-align: right;\">\n",
       "      <th></th>\n",
       "      <th>domains</th>\n",
       "      <th>country</th>\n",
       "      <th>web_pages</th>\n",
       "      <th>name</th>\n",
       "    </tr>\n",
       "  </thead>\n",
       "  <tbody>\n",
       "    <tr>\n",
       "      <th>0</th>\n",
       "      <td>csuci.edu</td>\n",
       "      <td>United States</td>\n",
       "      <td>https://www.csuci.edu/</td>\n",
       "      <td>California State University Channel Islands</td>\n",
       "    </tr>\n",
       "    <tr>\n",
       "      <th>1</th>\n",
       "      <td>calbaptist.edu</td>\n",
       "      <td>United States</td>\n",
       "      <td>http://www.calbaptist.edu/</td>\n",
       "      <td>California Baptist University</td>\n",
       "    </tr>\n",
       "    <tr>\n",
       "      <th>2</th>\n",
       "      <td>calsouthern.edu</td>\n",
       "      <td>United States</td>\n",
       "      <td>http://www.calsouthern.edu/</td>\n",
       "      <td>California Southern University</td>\n",
       "    </tr>\n",
       "    <tr>\n",
       "      <th>3</th>\n",
       "      <td>cpp.edu</td>\n",
       "      <td>United States</td>\n",
       "      <td>http://www.cpp.edu/</td>\n",
       "      <td>California Polytechnic State University, Pomona</td>\n",
       "    </tr>\n",
       "    <tr>\n",
       "      <th>4</th>\n",
       "      <td>calcoast.edu</td>\n",
       "      <td>United States</td>\n",
       "      <td>http://www.calcoast.edu/</td>\n",
       "      <td>California Coast University</td>\n",
       "    </tr>\n",
       "    <tr>\n",
       "      <th>...</th>\n",
       "      <td>...</td>\n",
       "      <td>...</td>\n",
       "      <td>...</td>\n",
       "      <td>...</td>\n",
       "    </tr>\n",
       "    <tr>\n",
       "      <th>79</th>\n",
       "      <td>ucsb.edu</td>\n",
       "      <td>United States</td>\n",
       "      <td>http://www.ucsb.edu/</td>\n",
       "      <td>University of California, Santa Barbara</td>\n",
       "    </tr>\n",
       "    <tr>\n",
       "      <th>80</th>\n",
       "      <td>ucsc.edu</td>\n",
       "      <td>United States</td>\n",
       "      <td>http://www.ucsc.edu/</td>\n",
       "      <td>University of California, Santa Cruz</td>\n",
       "    </tr>\n",
       "    <tr>\n",
       "      <th>81</th>\n",
       "      <td>usc.edu</td>\n",
       "      <td>United States</td>\n",
       "      <td>http://www.usc.edu/</td>\n",
       "      <td>University of Southern California</td>\n",
       "    </tr>\n",
       "    <tr>\n",
       "      <th>82</th>\n",
       "      <td>carrington.edu</td>\n",
       "      <td>United States</td>\n",
       "      <td>http://www.carrington.edu</td>\n",
       "      <td>Carrington College California-​Sacramento</td>\n",
       "    </tr>\n",
       "    <tr>\n",
       "      <th>83</th>\n",
       "      <td>calarts.edu</td>\n",
       "      <td>United States</td>\n",
       "      <td>https://calarts.edu/</td>\n",
       "      <td>California Institute of the Arts</td>\n",
       "    </tr>\n",
       "  </tbody>\n",
       "</table>\n",
       "<p>84 rows × 4 columns</p>\n",
       "</div>"
      ],
      "text/plain": [
       "            domains        country                    web_pages  \\\n",
       "0         csuci.edu  United States       https://www.csuci.edu/   \n",
       "1    calbaptist.edu  United States   http://www.calbaptist.edu/   \n",
       "2   calsouthern.edu  United States  http://www.calsouthern.edu/   \n",
       "3           cpp.edu  United States          http://www.cpp.edu/   \n",
       "4      calcoast.edu  United States     http://www.calcoast.edu/   \n",
       "..              ...            ...                          ...   \n",
       "79         ucsb.edu  United States         http://www.ucsb.edu/   \n",
       "80         ucsc.edu  United States         http://www.ucsc.edu/   \n",
       "81          usc.edu  United States          http://www.usc.edu/   \n",
       "82   carrington.edu  United States    http://www.carrington.edu   \n",
       "83      calarts.edu  United States         https://calarts.edu/   \n",
       "\n",
       "                                               name  \n",
       "0       California State University Channel Islands  \n",
       "1                     California Baptist University  \n",
       "2                    California Southern University  \n",
       "3   California Polytechnic State University, Pomona  \n",
       "4                       California Coast University  \n",
       "..                                              ...  \n",
       "79          University of California, Santa Barbara  \n",
       "80             University of California, Santa Cruz  \n",
       "81                University of Southern California  \n",
       "82        Carrington College California-​Sacramento  \n",
       "83                 California Institute of the Arts  \n",
       "\n",
       "[84 rows x 4 columns]"
      ]
     },
     "execution_count": 20,
     "metadata": {},
     "output_type": "execute_result"
    }
   ],
   "source": [
    "df"
   ]
  }
 ],
 "metadata": {
  "kernelspec": {
   "display_name": "base",
   "language": "python",
   "name": "python3"
  },
  "language_info": {
   "codemirror_mode": {
    "name": "ipython",
    "version": 3
   },
   "file_extension": ".py",
   "mimetype": "text/x-python",
   "name": "python",
   "nbconvert_exporter": "python",
   "pygments_lexer": "ipython3",
   "version": "3.7.6"
  },
  "orig_nbformat": 4,
  "vscode": {
   "interpreter": {
    "hash": "e644cac533a83472f1f7c6bbf1e735b61a4a260612d61f51501fbb6ce281b920"
   }
  }
 },
 "nbformat": 4,
 "nbformat_minor": 2
}
