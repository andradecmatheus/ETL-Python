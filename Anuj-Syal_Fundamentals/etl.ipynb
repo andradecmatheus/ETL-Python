{
 "cells": [
  {
   "cell_type": "markdown",
   "metadata": {},
   "source": [
    "\"\"\"\n",
    "Python Extract Transform Load Example\n",
    "\"\"\""
   ]
  },
  {
   "cell_type": "code",
   "execution_count": 1,
   "metadata": {},
   "outputs": [],
   "source": [
    "# to pull data from an API, which is used for the extraction of data\n",
    "import requests\n",
    "\n",
    "# to perform transformation and manipulation of data\n",
    "import pandas as pd\n",
    "\n",
    "# to support creating a connection to a database (essentially, it’s an SQLite database)\n",
    "from sqlalchemy import create_engine "
   ]
  },
  {
   "cell_type": "code",
   "execution_count": 28,
   "metadata": {},
   "outputs": [],
   "source": [
    "\"\"\" This API extracts data from\n",
    "http://universities.hipolabs.com\n",
    "\"\"\"\n",
    "    \n",
    "def extract(country:str)-> dict:\n",
    "    #country = country\n",
    "\n",
    "    API_URL = \"http://universities.hipolabs.com/search?country={}\".format(country)\n",
    "    data_universities = requests.get(API_URL).json() \n",
    "    \n",
    "    # Data is a list of dictionaries, where each dict is about one university\n",
    "    return data_universities\n"
   ]
  },
  {
   "cell_type": "code",
   "execution_count": 52,
   "metadata": {},
   "outputs": [],
   "source": [
    "\"\"\" Transforms the dataset into desired structure and filters\"\"\"\n",
    " \n",
    "def transform(data:dict, word:str) -> pd.DataFrame:\n",
    "\n",
    "    df_universities = pd.DataFrame(data)\n",
    "\n",
    "\n",
    "    # deleting duplicated rows with list columns\n",
    "    # df_universities_ma_pi = df_universities[df_universities[\"name\"].str.contains(\"Maranhão|Piau\")]\n",
    "    # \"domains\" and \"web_pages\" columns are list, then drop_duplicates won't work in this dataframe\n",
    "    # However, it can drop duplicates on the dataframe casted as str and then extract the rows from original df using the index from the results\n",
    "    #df_universities_ma_pi = df_universities_ma_pi.loc[df_universities_ma_pi.astype(str).drop_duplicates().index].reset_index(drop=True)\n",
    "\n",
    "    # Converting list columns to string columns\n",
    "    df_universities['domains'] = [','.join(map(str, l)) for l in df_universities['domains']]\n",
    "    df_universities['web_pages'] = [','.join(map(str, l)) for l in df_universities['web_pages']]\n",
    "    # https://www.jquery-az.com/3-ways-convert-python-list-string-join-map-str/\n",
    "    # in this case it is not necessary to use map function, because all values are already string, but it is important to use as prevention\n",
    "\n",
    "    # dropping duplicates rows and reseting the index \n",
    "    df_universities = df_universities.drop_duplicates().reset_index(drop=True)\n",
    "\n",
    "\n",
    "    # searching for universities that contains the word given\n",
    "    df_universities_ma_pi = df_universities[df_universities[\"name\"].str.contains(\"{}\".format(word))].reset_index(drop=True)\n",
    "\n",
    "\n",
    "    # show results\n",
    "    print(f\"Total Number of universities from API: {len(df_universities)}\")\n",
    "    print(f\"Number of universities with the word '{word}': {len(df_universities_ma_pi)}\")\n",
    "\n",
    "\n",
    "    return df_universities[[\"domains\",\"country\",\"web_pages\",\"name\"]], df_universities_ma_pi[[\"domains\",\"country\",\"web_pages\",\"name\"]]"
   ]
  },
  {
   "cell_type": "code",
   "execution_count": 53,
   "metadata": {},
   "outputs": [],
   "source": [
    "def load(df:pd.DataFrame)-> None:\n",
    "    \"\"\" Loads data into a sqllite database\"\"\"\n",
    "    disk_engine = create_engine('sqlite:///my_lite_store.db')\n",
    "    df.to_sql('cal_uni', disk_engine, if_exists='replace')"
   ]
  },
  {
   "cell_type": "code",
   "execution_count": 54,
   "metadata": {},
   "outputs": [
    {
     "name": "stdout",
     "output_type": "stream",
     "text": [
      "Total Number of universities from API: 174\n",
      "Number of universities with the word 'São': 11\n"
     ]
    }
   ],
   "source": [
    "country = 'Brazil'\n",
    "word_in_university_name = 'São'\n",
    "\n",
    "\n",
    "data = extract(country)\n",
    "df_univ, df_univ_word = transform(data, word_in_university_name)\n",
    "load(df_univ_word)"
   ]
  },
  {
   "cell_type": "code",
   "execution_count": 48,
   "metadata": {},
   "outputs": [
    {
     "data": {
      "text/html": [
       "<div>\n",
       "<style scoped>\n",
       "    .dataframe tbody tr th:only-of-type {\n",
       "        vertical-align: middle;\n",
       "    }\n",
       "\n",
       "    .dataframe tbody tr th {\n",
       "        vertical-align: top;\n",
       "    }\n",
       "\n",
       "    .dataframe thead th {\n",
       "        text-align: right;\n",
       "    }\n",
       "</style>\n",
       "<table border=\"1\" class=\"dataframe\">\n",
       "  <thead>\n",
       "    <tr style=\"text-align: right;\">\n",
       "      <th></th>\n",
       "      <th>domains</th>\n",
       "      <th>country</th>\n",
       "      <th>web_pages</th>\n",
       "      <th>name</th>\n",
       "    </tr>\n",
       "  </thead>\n",
       "  <tbody>\n",
       "    <tr>\n",
       "      <th>0</th>\n",
       "      <td>epm.br</td>\n",
       "      <td>Brazil</td>\n",
       "      <td>http://www.epm.br/</td>\n",
       "      <td>Universidade Federal de São Paulo</td>\n",
       "    </tr>\n",
       "    <tr>\n",
       "      <th>1</th>\n",
       "      <td>pucsp.br</td>\n",
       "      <td>Brazil</td>\n",
       "      <td>http://www.pucsp.br/</td>\n",
       "      <td>Pontifícia Universidade Católica de São Paulo</td>\n",
       "    </tr>\n",
       "    <tr>\n",
       "      <th>2</th>\n",
       "      <td>saojudas.br</td>\n",
       "      <td>Brazil</td>\n",
       "      <td>http://www.saojudas.br/</td>\n",
       "      <td>Universidade São Judas Tadeu</td>\n",
       "    </tr>\n",
       "    <tr>\n",
       "      <th>3</th>\n",
       "      <td>smarcos.br</td>\n",
       "      <td>Brazil</td>\n",
       "      <td>http://www.smarcos.br/</td>\n",
       "      <td>Universidade São Marcos</td>\n",
       "    </tr>\n",
       "    <tr>\n",
       "      <th>4</th>\n",
       "      <td>ufsj.edu.br</td>\n",
       "      <td>Brazil</td>\n",
       "      <td>https://www.ufsj.edu.br/</td>\n",
       "      <td>Universidade Federal de São João del-Rei</td>\n",
       "    </tr>\n",
       "    <tr>\n",
       "      <th>5</th>\n",
       "      <td>ufscar.br</td>\n",
       "      <td>Brazil</td>\n",
       "      <td>http://www.ufscar.br/</td>\n",
       "      <td>Universidade Federal de São Carlos</td>\n",
       "    </tr>\n",
       "    <tr>\n",
       "      <th>6</th>\n",
       "      <td>uniban.br</td>\n",
       "      <td>Brazil</td>\n",
       "      <td>http://www.uniban.br/</td>\n",
       "      <td>Universidade Bandeirante de São Paulo</td>\n",
       "    </tr>\n",
       "    <tr>\n",
       "      <th>7</th>\n",
       "      <td>unicid.br</td>\n",
       "      <td>Brazil</td>\n",
       "      <td>http://www.unicid.br/</td>\n",
       "      <td>Universidade Cidade de São Paulo</td>\n",
       "    </tr>\n",
       "    <tr>\n",
       "      <th>8</th>\n",
       "      <td>univasf.edu.br</td>\n",
       "      <td>Brazil</td>\n",
       "      <td>http://www.univasf.edu.br/</td>\n",
       "      <td>Universidade Federal do Vale do São Francisco</td>\n",
       "    </tr>\n",
       "    <tr>\n",
       "      <th>9</th>\n",
       "      <td>usf.br</td>\n",
       "      <td>Brazil</td>\n",
       "      <td>http://www.usf.br/</td>\n",
       "      <td>Universidade São Francisco</td>\n",
       "    </tr>\n",
       "    <tr>\n",
       "      <th>10</th>\n",
       "      <td>usp.br</td>\n",
       "      <td>Brazil</td>\n",
       "      <td>http://www.usp.br/</td>\n",
       "      <td>Universidade de São Paulo</td>\n",
       "    </tr>\n",
       "  </tbody>\n",
       "</table>\n",
       "</div>"
      ],
      "text/plain": [
       "           domains country                   web_pages  \\\n",
       "0           epm.br  Brazil          http://www.epm.br/   \n",
       "1         pucsp.br  Brazil        http://www.pucsp.br/   \n",
       "2      saojudas.br  Brazil     http://www.saojudas.br/   \n",
       "3       smarcos.br  Brazil      http://www.smarcos.br/   \n",
       "4      ufsj.edu.br  Brazil    https://www.ufsj.edu.br/   \n",
       "5        ufscar.br  Brazil       http://www.ufscar.br/   \n",
       "6        uniban.br  Brazil       http://www.uniban.br/   \n",
       "7        unicid.br  Brazil       http://www.unicid.br/   \n",
       "8   univasf.edu.br  Brazil  http://www.univasf.edu.br/   \n",
       "9           usf.br  Brazil          http://www.usf.br/   \n",
       "10          usp.br  Brazil          http://www.usp.br/   \n",
       "\n",
       "                                             name  \n",
       "0               Universidade Federal de São Paulo  \n",
       "1   Pontifícia Universidade Católica de São Paulo  \n",
       "2                    Universidade São Judas Tadeu  \n",
       "3                         Universidade São Marcos  \n",
       "4        Universidade Federal de São João del-Rei  \n",
       "5              Universidade Federal de São Carlos  \n",
       "6           Universidade Bandeirante de São Paulo  \n",
       "7                Universidade Cidade de São Paulo  \n",
       "8   Universidade Federal do Vale do São Francisco  \n",
       "9                      Universidade São Francisco  \n",
       "10                      Universidade de São Paulo  "
      ]
     },
     "execution_count": 48,
     "metadata": {},
     "output_type": "execute_result"
    }
   ],
   "source": [
    "df_univ_word"
   ]
  },
  {
   "attachments": {},
   "cell_type": "markdown",
   "metadata": {},
   "source": [
    "## Source\n",
    "\n",
    "https://medium.datadriveninvestor.com/create-your-first-etl-pipeline-with-python-d65070c259a6\n",
    "\n",
    "https://github.com/syalanuj/youtube/blob/main/de_fundamentals_python/etl.py"
   ]
  }
 ],
 "metadata": {
  "kernelspec": {
   "display_name": "base",
   "language": "python",
   "name": "python3"
  },
  "language_info": {
   "codemirror_mode": {
    "name": "ipython",
    "version": 3
   },
   "file_extension": ".py",
   "mimetype": "text/x-python",
   "name": "python",
   "nbconvert_exporter": "python",
   "pygments_lexer": "ipython3",
   "version": "3.7.6"
  },
  "orig_nbformat": 4,
  "vscode": {
   "interpreter": {
    "hash": "e644cac533a83472f1f7c6bbf1e735b61a4a260612d61f51501fbb6ce281b920"
   }
  }
 },
 "nbformat": 4,
 "nbformat_minor": 2
}
