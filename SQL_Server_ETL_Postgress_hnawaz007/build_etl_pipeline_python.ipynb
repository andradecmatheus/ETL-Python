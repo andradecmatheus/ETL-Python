{
 "cells": [
  {
   "cell_type": "code",
   "execution_count": 1,
   "metadata": {},
   "outputs": [
    {
     "name": "stdout",
     "output_type": "stream",
     "text": [
      "importing rows 0 to 606... for table DimProduct\n",
      "Data imported successful\n",
      "importing rows 0 to 4... for table DimProductCategory\n",
      "Data imported successful\n",
      "importing rows 0 to 37... for table DimProductSubcategory\n",
      "Data imported successful\n",
      "importing rows 0 to 11... for table DimSalesTerritory\n",
      "Data imported successful\n",
      "importing rows 0 to 60398... for table FactInternetSales\n",
      "Data imported successful\n"
     ]
    }
   ],
   "source": [
    "# Extract and Load operation from SQL Server to Postgres with Python\n",
    "\n",
    "#import needed libraries\n",
    "#!pip install psycopg2\n",
    "from sqlalchemy import create_engine # to interact with PostgreSQL\n",
    "import pyodbc # to query the SQL Server\n",
    "import pandas as pd # to carry out the data extract and data load part\n",
    "\n",
    "import os # because username and password was store in the system environmente variable\n",
    "# It is a good habit not to hard code your credentials in the script and store them separetely\n",
    "# the aim is to protect the credentials from being exposed in the ETL script\n",
    "# it can be used a configuration file or system environment variables\n",
    "\n",
    "#get password from environmnet var\n",
    "pwd = os.environ['PGPASS']\n",
    "uid =  os.environ['PGUID']\n",
    "#sql db details\n",
    "driver = \"{SQL Server Native Client 11.0}\"\n",
    "server = \"localhost\"\n",
    "database = \"AdventureWorksDW2019;\"\n",
    "\n",
    "#extract data from sql server\n",
    "def extract():\n",
    "    try:\n",
    "        # define source connection\n",
    "        src_conn = pyodbc.connect('DRIVER=' + driver + ';SERVER=' + server + '\\SQLEXPRESS' + \n",
    "                                  ';DATABASE=' + database + ';UID=' + uid + ';PWD=' + pwd)\n",
    "        \n",
    "        # cursor allow python code to execute sql command in a database session. It is bound to the connection\n",
    "        src_cursor = src_conn.cursor()\n",
    "        \n",
    "        # execute query: gets the table name from the system schema in sql server. Just 6 tables was selected for don't have to process the entire schema.\n",
    "        src_cursor.execute(\"\"\" select  t.name as table_name\n",
    "        from sys.tables t where t.name in ('DimProduct','DimProductSubcategory','DimProductSubcategory','DimProductCategory','DimSalesTerritory','FactInternetSales') \"\"\")\n",
    "        \n",
    "        # to get the records\n",
    "        src_tables = src_cursor.fetchall()\n",
    "        \n",
    "        # as the records are in a list format so we have to iterate over them\n",
    "        for tbl in src_tables:\n",
    "            #query and load save data to dataframe\n",
    "            df = pd.read_sql_query(f'select * FROM {tbl[0]}', src_conn) # f'string? # [0] to get the table name as string\n",
    "            load(df, tbl[0]) # tbl[0] = table name\n",
    "            \n",
    "    except Exception as e:\n",
    "        print(\"Data extract error: \" + str(e))\n",
    "        \n",
    "    finally:\n",
    "        # close the connection once we are done\n",
    "        src_conn.close()\n",
    "\n",
    "\n",
    "#load data to postgres\n",
    "def load(df, tbl):\n",
    "    try:\n",
    "        rows_imported = 0\n",
    "        # the connection to postgres\n",
    "        engine = create_engine(f'postgresql://{uid}:{pwd}@{server}:5432/AdventureWorks')\n",
    "        print(f'importing rows {rows_imported} to {rows_imported + len(df)}... for table {tbl}')\n",
    "        \n",
    "        # save df to postgres\n",
    "        df.to_sql(f'stg_{tbl}', engine, if_exists='replace', index=False) # if_exists='replace' == truncate and load technique\n",
    "        rows_imported += len(df)\n",
    "        \n",
    "        # add elapsed time to final print out\n",
    "        print(\"Data imported successful\")\n",
    "        \n",
    "    except Exception as e:\n",
    "        print(\"Data load error: \" + str(e))\n",
    "\n",
    "\n",
    "\n",
    "try:\n",
    "    #call extract function\n",
    "    extract()\n",
    "except Exception as e:\n",
    "    print(\"Error while extracting data: \" + str(e))"
   ]
  },
  {
   "cell_type": "code",
   "execution_count": null,
   "metadata": {},
   "outputs": [],
   "source": []
  },
  {
   "cell_type": "markdown",
   "metadata": {},
   "source": [
    "Hi Nabil, make sure you have the SQL Server driver installed on your machine, create the etl user with provided script. Also, add a rule in the firewall to allow connections to SQL Server port 1433."
   ]
  }
 ],
 "metadata": {
  "kernelspec": {
   "display_name": "base",
   "language": "python",
   "name": "python3"
  },
  "language_info": {
   "codemirror_mode": {
    "name": "ipython",
    "version": 3
   },
   "file_extension": ".py",
   "mimetype": "text/x-python",
   "name": "python",
   "nbconvert_exporter": "python",
   "pygments_lexer": "ipython3",
   "version": "3.7.6"
  },
  "orig_nbformat": 4,
  "vscode": {
   "interpreter": {
    "hash": "e644cac533a83472f1f7c6bbf1e735b61a4a260612d61f51501fbb6ce281b920"
   }
  }
 },
 "nbformat": 4,
 "nbformat_minor": 2
}
